{
 "cells": [
  {
   "cell_type": "code",
   "execution_count": 36,
   "metadata": {
    "collapsed": false
   },
   "outputs": [
    {
     "name": "stdout",
     "output_type": "stream",
     "text": [
      "hello, world\n"
     ]
    }
   ],
   "source": [
    "print(\"hello, world\")\n",
    "# do Shift-ENTER"
   ]
  },
  {
   "cell_type": "code",
   "execution_count": 37,
   "metadata": {
    "collapsed": false
   },
   "outputs": [
    {
     "name": "stdout",
     "output_type": "stream",
     "text": [
      "6\n"
     ]
    }
   ],
   "source": [
    "x = 6\n",
    "print(x)"
   ]
  },
  {
   "cell_type": "code",
   "execution_count": 38,
   "metadata": {
    "collapsed": true
   },
   "outputs": [],
   "source": [
    "# this is my favorite comment"
   ]
  },
  {
   "cell_type": "code",
   "execution_count": 39,
   "metadata": {
    "collapsed": false
   },
   "outputs": [
    {
     "data": {
      "text/plain": [
       "4"
      ]
     },
     "execution_count": 39,
     "metadata": {},
     "output_type": "execute_result"
    }
   ],
   "source": [
    "2 + 2"
   ]
  },
  {
   "cell_type": "code",
   "execution_count": 40,
   "metadata": {
    "collapsed": false
   },
   "outputs": [
    {
     "data": {
      "text/plain": [
       "39"
      ]
     },
     "execution_count": 40,
     "metadata": {},
     "output_type": "execute_result"
    }
   ],
   "source": [
    "50 - 5-6"
   ]
  },
  {
   "cell_type": "code",
   "execution_count": 41,
   "metadata": {
    "collapsed": false
   },
   "outputs": [
    {
     "data": {
      "text/plain": [
       "20"
      ]
     },
     "execution_count": 41,
     "metadata": {},
     "output_type": "execute_result"
    }
   ],
   "source": [
    "50 - 5*6\n"
   ]
  },
  {
   "cell_type": "code",
   "execution_count": 42,
   "metadata": {
    "collapsed": false
   },
   "outputs": [
    {
     "data": {
      "text/plain": [
       "270"
      ]
     },
     "execution_count": 42,
     "metadata": {},
     "output_type": "execute_result"
    }
   ],
   "source": [
    "(50 - 5) * 6"
   ]
  },
  {
   "cell_type": "code",
   "execution_count": 43,
   "metadata": {
    "collapsed": false
   },
   "outputs": [
    {
     "data": {
      "text/plain": [
       "1.6"
      ]
     },
     "execution_count": 43,
     "metadata": {},
     "output_type": "execute_result"
    }
   ],
   "source": [
    "8 / 5"
   ]
  },
  {
   "cell_type": "code",
   "execution_count": 44,
   "metadata": {
    "collapsed": false
   },
   "outputs": [
    {
     "data": {
      "text/plain": [
       "3"
      ]
     },
     "execution_count": 44,
     "metadata": {},
     "output_type": "execute_result"
    }
   ],
   "source": [
    "8 % 5"
   ]
  },
  {
   "cell_type": "code",
   "execution_count": 45,
   "metadata": {
    "collapsed": false
   },
   "outputs": [
    {
     "data": {
      "text/plain": [
       "32"
      ]
     },
     "execution_count": 45,
     "metadata": {},
     "output_type": "execute_result"
    }
   ],
   "source": [
    "2**5"
   ]
  },
  {
   "cell_type": "code",
   "execution_count": 46,
   "metadata": {
    "collapsed": false
   },
   "outputs": [
    {
     "data": {
      "text/plain": [
       "100"
      ]
     },
     "execution_count": 46,
     "metadata": {},
     "output_type": "execute_result"
    }
   ],
   "source": [
    "10**2"
   ]
  },
  {
   "cell_type": "code",
   "execution_count": 52,
   "metadata": {
    "collapsed": true
   },
   "outputs": [],
   "source": [
    "width = 20\n",
    "height = 5"
   ]
  },
  {
   "cell_type": "code",
   "execution_count": 51,
   "metadata": {
    "collapsed": true
   },
   "outputs": [],
   "source": [
    "width = 20 \\\n",
    "    * 5"
   ]
  },
  {
   "cell_type": "code",
   "execution_count": 53,
   "metadata": {
    "collapsed": false
   },
   "outputs": [
    {
     "data": {
      "text/plain": [
       "20"
      ]
     },
     "execution_count": 53,
     "metadata": {},
     "output_type": "execute_result"
    }
   ],
   "source": [
    "width"
   ]
  },
  {
   "cell_type": "code",
   "execution_count": 50,
   "metadata": {
    "collapsed": false
   },
   "outputs": [
    {
     "data": {
      "text/plain": [
       "5"
      ]
     },
     "execution_count": 50,
     "metadata": {},
     "output_type": "execute_result"
    }
   ],
   "source": [
    "width\n",
    "height"
   ]
  },
  {
   "cell_type": "code",
   "execution_count": 57,
   "metadata": {
    "collapsed": false
   },
   "outputs": [
    {
     "ename": "NameError",
     "evalue": "name 'box' is not defined",
     "output_type": "error",
     "traceback": [
      "\u001b[1;31m---------------------------------------------------------------------------\u001b[0m",
      "\u001b[1;31mNameError\u001b[0m                                 Traceback (most recent call last)",
      "\u001b[1;32m<ipython-input-57-6886ac732445>\u001b[0m in \u001b[0;36m<module>\u001b[1;34m()\u001b[0m\n\u001b[1;32m----> 1\u001b[1;33m \u001b[0mprint\u001b[0m\u001b[1;33m(\u001b[0m\u001b[0mbox\u001b[0m\u001b[1;33m)\u001b[0m\u001b[1;33m\u001b[0m\u001b[0m\n\u001b[0m",
      "\u001b[1;31mNameError\u001b[0m: name 'box' is not defined"
     ]
    }
   ],
   "source": [
    "print(box)"
   ]
  },
  {
   "cell_type": "code",
   "execution_count": 58,
   "metadata": {
    "collapsed": false
   },
   "outputs": [
    {
     "name": "stdout",
     "output_type": "stream",
     "text": [
      "\u001b[0m\u001b[01;34mRISE\u001b[0m/            Untitled3.ipynb  Untitled7.ipynb       \u001b[01;35mmyplot.png\u001b[0m\r\n",
      "Untitled.ipynb   Untitled4.ipynb  \u001b[01;34menv\u001b[0m/                  \u001b[01;32mrun-notebook.sh\u001b[0m*\r\n",
      "Untitled1.ipynb  Untitled5.ipynb  install-irkernel.sh   titus.ipynb\r\n",
      "Untitled2.ipynb  Untitled6.ipynb  install-on-ubuntu.sh\r\n"
     ]
    }
   ],
   "source": [
    "ls"
   ]
  },
  {
   "cell_type": "code",
   "execution_count": 59,
   "metadata": {
    "collapsed": false
   },
   "outputs": [
    {
     "data": {
      "text/plain": [
       "'spam egs'"
      ]
     },
     "execution_count": 59,
     "metadata": {},
     "output_type": "execute_result"
    }
   ],
   "source": [
    "'spam egs'"
   ]
  },
  {
   "cell_type": "code",
   "execution_count": 60,
   "metadata": {
    "collapsed": false
   },
   "outputs": [
    {
     "data": {
      "text/plain": [
       "'spam eggs'"
      ]
     },
     "execution_count": 60,
     "metadata": {},
     "output_type": "execute_result"
    }
   ],
   "source": [
    "\"spam eggs\""
   ]
  },
  {
   "cell_type": "code",
   "execution_count": 61,
   "metadata": {
    "collapsed": false
   },
   "outputs": [
    {
     "data": {
      "text/plain": [
       "'hello, \"quote\"'"
      ]
     },
     "execution_count": 61,
     "metadata": {},
     "output_type": "execute_result"
    }
   ],
   "source": [
    "\"hello, \\\"quote\\\"\""
   ]
  },
  {
   "cell_type": "code",
   "execution_count": 62,
   "metadata": {
    "collapsed": true
   },
   "outputs": [],
   "source": [
    "ms = \"\"\" put whateve rI want in here, including \n",
    "\n",
    "\n",
    "new lines\n",
    "\n",
    "and other tstuff\n",
    "\n",
    "\"\"\""
   ]
  },
  {
   "cell_type": "code",
   "execution_count": 63,
   "metadata": {
    "collapsed": false
   },
   "outputs": [
    {
     "data": {
      "text/plain": [
       "' put whateve rI want in here, including \\n\\n\\nnew lines\\n\\nand other tstuff\\n\\n'"
      ]
     },
     "execution_count": 63,
     "metadata": {},
     "output_type": "execute_result"
    }
   ],
   "source": [
    "ms"
   ]
  },
  {
   "cell_type": "code",
   "execution_count": 64,
   "metadata": {
    "collapsed": false
   },
   "outputs": [
    {
     "data": {
      "text/plain": [
       "' '"
      ]
     },
     "execution_count": 64,
     "metadata": {},
     "output_type": "execute_result"
    }
   ],
   "source": [
    "ms[0]"
   ]
  },
  {
   "cell_type": "code",
   "execution_count": 65,
   "metadata": {
    "collapsed": false
   },
   "outputs": [
    {
     "data": {
      "text/plain": [
       "' put whate'"
      ]
     },
     "execution_count": 65,
     "metadata": {},
     "output_type": "execute_result"
    }
   ],
   "source": [
    "ms[:10]"
   ]
  },
  {
   "cell_type": "code",
   "execution_count": 66,
   "metadata": {
    "collapsed": true
   },
   "outputs": [],
   "source": [
    "nums = \"0123456789\""
   ]
  },
  {
   "cell_type": "code",
   "execution_count": 67,
   "metadata": {
    "collapsed": false
   },
   "outputs": [
    {
     "data": {
      "text/plain": [
       "'0'"
      ]
     },
     "execution_count": 67,
     "metadata": {},
     "output_type": "execute_result"
    }
   ],
   "source": [
    "nums[0]"
   ]
  },
  {
   "cell_type": "code",
   "execution_count": 68,
   "metadata": {
    "collapsed": false
   },
   "outputs": [
    {
     "data": {
      "text/plain": [
       "'9'"
      ]
     },
     "execution_count": 68,
     "metadata": {},
     "output_type": "execute_result"
    }
   ],
   "source": [
    "nums[9]"
   ]
  },
  {
   "cell_type": "code",
   "execution_count": 70,
   "metadata": {
    "collapsed": false
   },
   "outputs": [
    {
     "data": {
      "text/plain": [
       "'012345678'"
      ]
     },
     "execution_count": 70,
     "metadata": {},
     "output_type": "execute_result"
    }
   ],
   "source": [
    "nums[0:9]"
   ]
  },
  {
   "cell_type": "code",
   "execution_count": 71,
   "metadata": {
    "collapsed": true
   },
   "outputs": [],
   "source": [
    "a = \"result\" + \"my name is\""
   ]
  },
  {
   "cell_type": "code",
   "execution_count": 72,
   "metadata": {
    "collapsed": false
   },
   "outputs": [
    {
     "data": {
      "text/plain": [
       "'resultmy name is'"
      ]
     },
     "execution_count": 72,
     "metadata": {},
     "output_type": "execute_result"
    }
   ],
   "source": [
    "a"
   ]
  },
  {
   "cell_type": "code",
   "execution_count": 73,
   "metadata": {
    "collapsed": false
   },
   "outputs": [
    {
     "name": "stdout",
     "output_type": "stream",
     "text": [
      "hello world\n"
     ]
    }
   ],
   "source": [
    "print(\"hello\", \"world\")"
   ]
  },
  {
   "cell_type": "code",
   "execution_count": 74,
   "metadata": {
    "collapsed": false
   },
   "outputs": [
    {
     "name": "stdout",
     "output_type": "stream",
     "text": [
      "hello, jessica\n"
     ]
    }
   ],
   "source": [
    "name = \"jessica\"\n",
    "print(\"hello,\", name)"
   ]
  },
  {
   "cell_type": "code",
   "execution_count": 75,
   "metadata": {
    "collapsed": false
   },
   "outputs": [
    {
     "name": "stdout",
     "output_type": "stream",
     "text": [
      "35\n"
     ]
    }
   ],
   "source": [
    "print(55 - 20)"
   ]
  },
  {
   "cell_type": "code",
   "execution_count": 76,
   "metadata": {
    "collapsed": false
   },
   "outputs": [
    {
     "name": "stdout",
     "output_type": "stream",
     "text": [
      "35\n"
     ]
    }
   ],
   "source": [
    "a = 55 - 20\n",
    "print (a)"
   ]
  },
  {
   "cell_type": "code",
   "execution_count": 77,
   "metadata": {
    "collapsed": false
   },
   "outputs": [
    {
     "data": {
      "text/plain": [
       "'0123456789'"
      ]
     },
     "execution_count": 77,
     "metadata": {},
     "output_type": "execute_result"
    }
   ],
   "source": [
    "nums"
   ]
  },
  {
   "cell_type": "code",
   "execution_count": 80,
   "metadata": {
    "collapsed": false
   },
   "outputs": [
    {
     "data": {
      "text/plain": [
       "'89'"
      ]
     },
     "execution_count": 80,
     "metadata": {},
     "output_type": "execute_result"
    }
   ],
   "source": [
    "# indexing works from the reverse as well\n",
    "nums[-2:]"
   ]
  },
  {
   "cell_type": "code",
   "execution_count": 81,
   "metadata": {
    "collapsed": true
   },
   "outputs": [],
   "source": [
    "squares = [ 1, 4, 9, 16, 25 ]"
   ]
  },
  {
   "cell_type": "code",
   "execution_count": 82,
   "metadata": {
    "collapsed": false
   },
   "outputs": [
    {
     "name": "stdout",
     "output_type": "stream",
     "text": [
      "[1, 4, 9, 16, 25]\n"
     ]
    }
   ],
   "source": [
    "print(squares)"
   ]
  },
  {
   "cell_type": "code",
   "execution_count": 83,
   "metadata": {
    "collapsed": false
   },
   "outputs": [
    {
     "data": {
      "text/plain": [
       "16"
      ]
     },
     "execution_count": 83,
     "metadata": {},
     "output_type": "execute_result"
    }
   ],
   "source": [
    "squares[3]"
   ]
  },
  {
   "cell_type": "code",
   "execution_count": 84,
   "metadata": {
    "collapsed": false
   },
   "outputs": [
    {
     "data": {
      "text/plain": [
       "['name', 5, [1, 4, 9, 16, 25]]"
      ]
     },
     "execution_count": 84,
     "metadata": {},
     "output_type": "execute_result"
    }
   ],
   "source": [
    "somelist = [\"name\", 5, squares]\n",
    "somelist"
   ]
  },
  {
   "cell_type": "code",
   "execution_count": 85,
   "metadata": {
    "collapsed": false
   },
   "outputs": [
    {
     "data": {
      "text/plain": [
       "['name', 5]"
      ]
     },
     "execution_count": 85,
     "metadata": {},
     "output_type": "execute_result"
    }
   ],
   "source": [
    "somelist[:2]"
   ]
  },
  {
   "cell_type": "code",
   "execution_count": 86,
   "metadata": {
    "collapsed": false
   },
   "outputs": [
    {
     "data": {
      "text/plain": [
       "['name', 5, [1, 4, 9, 16, 25], 'name', 5, [1, 4, 9, 16, 25]]"
      ]
     },
     "execution_count": 86,
     "metadata": {},
     "output_type": "execute_result"
    }
   ],
   "source": [
    "somelist + somelist"
   ]
  },
  {
   "cell_type": "code",
   "execution_count": 87,
   "metadata": {
    "collapsed": false
   },
   "outputs": [
    {
     "data": {
      "text/plain": [
       "[1, 4, 9, 16, 25]"
      ]
     },
     "execution_count": 87,
     "metadata": {},
     "output_type": "execute_result"
    }
   ],
   "source": [
    "squares"
   ]
  },
  {
   "cell_type": "code",
   "execution_count": 88,
   "metadata": {
    "collapsed": false
   },
   "outputs": [
    {
     "name": "stdout",
     "output_type": "stream",
     "text": [
      "[1, 4, 9, 16, 25, 36]\n"
     ]
    }
   ],
   "source": [
    "squares.append(36)\n",
    "print(squares)"
   ]
  },
  {
   "cell_type": "code",
   "execution_count": 89,
   "metadata": {
    "collapsed": true
   },
   "outputs": [],
   "source": [
    "squares.insert(0, -100)"
   ]
  },
  {
   "cell_type": "code",
   "execution_count": 90,
   "metadata": {
    "collapsed": false
   },
   "outputs": [
    {
     "data": {
      "text/plain": [
       "[-100, 1, 4, 9, 16, 25, 36]"
      ]
     },
     "execution_count": 90,
     "metadata": {},
     "output_type": "execute_result"
    }
   ],
   "source": [
    "squares"
   ]
  },
  {
   "cell_type": "code",
   "execution_count": 91,
   "metadata": {
    "collapsed": false
   },
   "outputs": [
    {
     "name": "stdout",
     "output_type": "stream",
     "text": [
      "36\n"
     ]
    }
   ],
   "source": [
    "a = squares.pop()\n",
    "print(a)"
   ]
  },
  {
   "cell_type": "code",
   "execution_count": 92,
   "metadata": {
    "collapsed": false
   },
   "outputs": [
    {
     "data": {
      "text/plain": [
       "[-100, 1, 4, 9, 16, 25]"
      ]
     },
     "execution_count": 92,
     "metadata": {},
     "output_type": "execute_result"
    }
   ],
   "source": [
    "squares"
   ]
  },
  {
   "cell_type": "code",
   "execution_count": 93,
   "metadata": {
    "collapsed": false
   },
   "outputs": [
    {
     "data": {
      "text/plain": [
       "6"
      ]
     },
     "execution_count": 93,
     "metadata": {},
     "output_type": "execute_result"
    }
   ],
   "source": [
    "len(squares)"
   ]
  },
  {
   "cell_type": "code",
   "execution_count": 94,
   "metadata": {
    "collapsed": false
   },
   "outputs": [
    {
     "name": "stdout",
     "output_type": "stream",
     "text": [
      "None\n",
      "36\n"
     ]
    }
   ],
   "source": [
    "print(squares.append(36))\n",
    "print(squares.pop())\n",
    "\n"
   ]
  },
  {
   "cell_type": "code",
   "execution_count": 95,
   "metadata": {
    "collapsed": false
   },
   "outputs": [
    {
     "data": {
      "text/plain": [
       "[-100, 1, 4, 9, 16, 25]"
      ]
     },
     "execution_count": 95,
     "metadata": {},
     "output_type": "execute_result"
    }
   ],
   "source": [
    "squares"
   ]
  },
  {
   "cell_type": "code",
   "execution_count": 96,
   "metadata": {
    "collapsed": false
   },
   "outputs": [
    {
     "data": {
      "text/plain": [
       "[-100, 1, 4]"
      ]
     },
     "execution_count": 96,
     "metadata": {},
     "output_type": "execute_result"
    }
   ],
   "source": [
    "squares[0:3]"
   ]
  },
  {
   "cell_type": "code",
   "execution_count": 97,
   "metadata": {
    "collapsed": false
   },
   "outputs": [
    {
     "name": "stdout",
     "output_type": "stream",
     "text": [
      "hello, world\n"
     ]
    }
   ],
   "source": [
    "a = 5\n",
    "if a > 0:\n",
    "    print(\"hello, world\")"
   ]
  },
  {
   "cell_type": "code",
   "execution_count": 99,
   "metadata": {
    "collapsed": false
   },
   "outputs": [
    {
     "name": "stdout",
     "output_type": "stream",
     "text": [
      "I'm all good\n"
     ]
    }
   ],
   "source": [
    "if a > 10:\n",
    "    print(\"goodbye, cruel world\")\n",
    "else:\n",
    "    print(\"I'm all good\")"
   ]
  },
  {
   "cell_type": "code",
   "execution_count": 108,
   "metadata": {
    "collapsed": false
   },
   "outputs": [
    {
     "name": "stdout",
     "output_type": "stream",
     "text": [
      "a is medium\n",
      "this is a throwaway statement\n"
     ]
    }
   ],
   "source": [
    "a = 5\n",
    "if a > 5:\n",
    "    print('a is big')\n",
    "elif a == 5:\n",
    "    print('a is medium')\n",
    "else:\n",
    "    print('a is small')\n",
    "    \n",
    "print('this is a throwaway statement')"
   ]
  },
  {
   "cell_type": "code",
   "execution_count": 109,
   "metadata": {
    "collapsed": false
   },
   "outputs": [
    {
     "data": {
      "text/plain": [
       "[-100, 1, 4, 9, 16, 25]"
      ]
     },
     "execution_count": 109,
     "metadata": {},
     "output_type": "execute_result"
    }
   ],
   "source": [
    "squares"
   ]
  },
  {
   "cell_type": "code",
   "execution_count": 112,
   "metadata": {
    "collapsed": false
   },
   "outputs": [
    {
     "name": "stdout",
     "output_type": "stream",
     "text": [
      "-100\n",
      "1\n",
      "4\n",
      "9\n",
      "and this is a big value!\n",
      "16\n",
      "and this is a big value!\n",
      "25\n",
      "and this is a big value!\n"
     ]
    }
   ],
   "source": [
    "for fizzlebar in squares:\n",
    "    print(fizzlebar)\n",
    "    if fizzlebar > 5:\n",
    "        print('and this is a big value!')"
   ]
  },
  {
   "cell_type": "code",
   "execution_count": 113,
   "metadata": {
    "collapsed": true
   },
   "outputs": [],
   "source": [
    "x = 5\n",
    "this_value = 10\n",
    "_foo = 15\n",
    "bar12345 = 15\n",
    "\n",
    "# can't have -, and they can't start with a number"
   ]
  },
  {
   "cell_type": "code",
   "execution_count": 114,
   "metadata": {
    "collapsed": false
   },
   "outputs": [
    {
     "data": {
      "text/plain": [
       "range(0, 10)"
      ]
     },
     "execution_count": 114,
     "metadata": {},
     "output_type": "execute_result"
    }
   ],
   "source": [
    "range(0, 10)"
   ]
  },
  {
   "cell_type": "code",
   "execution_count": 116,
   "metadata": {
    "collapsed": false
   },
   "outputs": [
    {
     "name": "stdout",
     "output_type": "stream",
     "text": [
      "0\n",
      "2\n",
      "4\n",
      "6\n",
      "8\n"
     ]
    }
   ],
   "source": [
    "for i in range(0, 10, 2):\n",
    "    print(i)"
   ]
  },
  {
   "cell_type": "code",
   "execution_count": 120,
   "metadata": {
    "collapsed": false
   },
   "outputs": [
    {
     "name": "stdout",
     "output_type": "stream",
     "text": [
      "[0, 1, 4, 9, 16, 25, 36, 49, 64, 81]\n"
     ]
    }
   ],
   "source": [
    "squares = []\n",
    "\n",
    "for i in range(0, 10):\n",
    "    squares.append(i ** 2)\n",
    "    \n",
    "print(squares)"
   ]
  },
  {
   "cell_type": "code",
   "execution_count": 121,
   "metadata": {
    "collapsed": true
   },
   "outputs": [],
   "source": [
    "\n",
    "some_numbers = [ 5, 6, 8, 55, 5, 8, 20]"
   ]
  },
  {
   "cell_type": "code",
   "execution_count": 122,
   "metadata": {
    "collapsed": false
   },
   "outputs": [
    {
     "data": {
      "text/plain": [
       "[5, 6, 8, 55, 5, 8, 20]"
      ]
     },
     "execution_count": 122,
     "metadata": {},
     "output_type": "execute_result"
    }
   ],
   "source": [
    "some_numbers"
   ]
  },
  {
   "cell_type": "code",
   "execution_count": 123,
   "metadata": {
    "collapsed": false
   },
   "outputs": [
    {
     "data": {
      "text/plain": [
       "{5, 6, 8, 20, 55}"
      ]
     },
     "execution_count": 123,
     "metadata": {},
     "output_type": "execute_result"
    }
   ],
   "source": [
    "some_numbers2 = set([5, 6, 8, 55, 5, 8, 20])\n",
    "some_numbers2"
   ]
  },
  {
   "cell_type": "code",
   "execution_count": 125,
   "metadata": {
    "collapsed": true
   },
   "outputs": [],
   "source": [
    "some_numbers2.add(5)\n",
    "some_numbers2.add(8)\n",
    "some_numbers2.add(3)\n",
    "some_numbers2.add(25)"
   ]
  },
  {
   "cell_type": "code",
   "execution_count": 126,
   "metadata": {
    "collapsed": false
   },
   "outputs": [
    {
     "data": {
      "text/plain": [
       "{3, 5, 6, 8, 20, 25, 55}"
      ]
     },
     "execution_count": 126,
     "metadata": {},
     "output_type": "execute_result"
    }
   ],
   "source": [
    "some_numbers2"
   ]
  },
  {
   "cell_type": "markdown",
   "metadata": {},
   "source": []
  },
  {
   "cell_type": "code",
   "execution_count": 127,
   "metadata": {
    "collapsed": false
   },
   "outputs": [
    {
     "data": {
      "text/plain": [
       "[3, 5, 6, 8, 20, 55, 25]"
      ]
     },
     "execution_count": 127,
     "metadata": {},
     "output_type": "execute_result"
    }
   ],
   "source": [
    "list(some_numbers2)"
   ]
  },
  {
   "cell_type": "code",
   "execution_count": 128,
   "metadata": {
    "collapsed": false
   },
   "outputs": [
    {
     "data": {
      "text/plain": [
       "{5, 6, 8, 20, 55}"
      ]
     },
     "execution_count": 128,
     "metadata": {},
     "output_type": "execute_result"
    }
   ],
   "source": [
    "set(some_numbers)"
   ]
  },
  {
   "cell_type": "code",
   "execution_count": 129,
   "metadata": {
    "collapsed": false
   },
   "outputs": [
    {
     "data": {
      "text/plain": [
       "2"
      ]
     },
     "execution_count": 129,
     "metadata": {},
     "output_type": "execute_result"
    }
   ],
   "source": [
    "some_numbers.count(5)"
   ]
  },
  {
   "cell_type": "code",
   "execution_count": 130,
   "metadata": {
    "collapsed": true
   },
   "outputs": [],
   "source": [
    "extension = {}\n",
    "extension['jessica'] = 'mizzi'\n",
    "extension['titus'] = 'brown'"
   ]
  },
  {
   "cell_type": "code",
   "execution_count": 131,
   "metadata": {
    "collapsed": false
   },
   "outputs": [
    {
     "name": "stdout",
     "output_type": "stream",
     "text": [
      "brown\n"
     ]
    }
   ],
   "source": [
    "print(extension['titus'])"
   ]
  },
  {
   "cell_type": "code",
   "execution_count": 132,
   "metadata": {
    "collapsed": true
   },
   "outputs": [],
   "source": [
    "extension['james'] = 'brown'"
   ]
  },
  {
   "cell_type": "code",
   "execution_count": 133,
   "metadata": {
    "collapsed": false
   },
   "outputs": [
    {
     "data": {
      "text/plain": [
       "dict_keys(['jessica', 'titus', 'james'])"
      ]
     },
     "execution_count": 133,
     "metadata": {},
     "output_type": "execute_result"
    }
   ],
   "source": [
    "extension.keys()"
   ]
  },
  {
   "cell_type": "code",
   "execution_count": 135,
   "metadata": {
    "collapsed": false
   },
   "outputs": [
    {
     "data": {
      "text/plain": [
       "dict_values(['mizzi', 'brown', 'brown'])"
      ]
     },
     "execution_count": 135,
     "metadata": {},
     "output_type": "execute_result"
    }
   ],
   "source": [
    "extension.values()"
   ]
  },
  {
   "cell_type": "code",
   "execution_count": 137,
   "metadata": {
    "collapsed": false
   },
   "outputs": [
    {
     "name": "stdout",
     "output_type": "stream",
     "text": [
      "jessica mizzi\n",
      "titus brown\n",
      "james brown\n"
     ]
    }
   ],
   "source": [
    "for first_name in extension:\n",
    "    print(first_name, extension[first_name])"
   ]
  },
  {
   "cell_type": "code",
   "execution_count": 138,
   "metadata": {
    "collapsed": false
   },
   "outputs": [
    {
     "data": {
      "text/plain": [
       "[5, 6, 8, 55, 5, 8, 20]"
      ]
     },
     "execution_count": 138,
     "metadata": {},
     "output_type": "execute_result"
    }
   ],
   "source": [
    "some_numbers"
   ]
  },
  {
   "cell_type": "code",
   "execution_count": 139,
   "metadata": {
    "collapsed": true
   },
   "outputs": [],
   "source": [
    "names = ['jess', 'bess', 'liz', 'bill', 'bill', 'john', 'john', \n",
    "        'jess', 'liz']"
   ]
  },
  {
   "cell_type": "code",
   "execution_count": 141,
   "metadata": {
    "collapsed": false
   },
   "outputs": [
    {
     "name": "stdout",
     "output_type": "stream",
     "text": [
      "bill 2\n",
      "liz 2\n",
      "jess 2\n",
      "john 2\n",
      "bess 1\n"
     ]
    }
   ],
   "source": [
    "for n in set(names):\n",
    "    print(n, names.count(n))"
   ]
  },
  {
   "cell_type": "code",
   "execution_count": 142,
   "metadata": {
    "collapsed": false
   },
   "outputs": [
    {
     "name": "stdout",
     "output_type": "stream",
     "text": [
      "{'bill': 2, 'liz': 2, 'jess': 2, 'john': 2, 'bess': 1}\n"
     ]
    }
   ],
   "source": [
    "counts = {}\n",
    "for n in names:\n",
    "    counts[n] = 0\n",
    "    \n",
    "for n in names:\n",
    "    counts[n] = counts[n] + 1\n",
    "\n",
    "print(counts)"
   ]
  },
  {
   "cell_type": "code",
   "execution_count": 143,
   "metadata": {
    "collapsed": false
   },
   "outputs": [
    {
     "name": "stdout",
     "output_type": "stream",
     "text": [
      "1\n"
     ]
    }
   ],
   "source": [
    "print(counts['bess'])"
   ]
  },
  {
   "cell_type": "code",
   "execution_count": 147,
   "metadata": {
    "collapsed": false
   },
   "outputs": [
    {
     "name": "stdout",
     "output_type": "stream",
     "text": [
      "jane doe is here\n",
      "joe shmoe is here\n",
      "dict_values([0, 1, 1, 0])\n",
      "0.5\n"
     ]
    }
   ],
   "source": [
    "# taking attendance --\n",
    "attendance = {}\n",
    "# keys will be student names\n",
    "# values will be 1 (present) and 0 (for absent)\n",
    "attendance['bobby wood'] = 0\n",
    "attendance['joe shmoe'] = 1\n",
    "attendance['jane doe'] = 1\n",
    "attendance['ferris bueller'] = 0\n",
    "\n",
    "# who attended\n",
    "for person in attendance:\n",
    "    if attendance[person] == 1:\n",
    "        print(person, 'is here')\n",
    "        \n",
    "# all of the values are in attendance.values()\n",
    "print(attendance.values())\n",
    "print(sum(attendance.values()) / len(attendance.values()))"
   ]
  },
  {
   "cell_type": "code",
   "execution_count": 148,
   "metadata": {
    "collapsed": false
   },
   "outputs": [
    {
     "name": "stdout",
     "output_type": "stream",
     "text": [
      "bobby wood 0\n",
      "joe shmoe 1\n",
      "jane doe 1\n",
      "ferris bueller 0\n"
     ]
    }
   ],
   "source": [
    "people = ['bobby wood', 'joe shmoe', 'jane doe', 'ferris bueller']\n",
    "herelist = [ 0, 1, 1, 0]\n",
    "\n",
    "for i in range(len(people)):\n",
    "    print(people[i], herelist[i])\n"
   ]
  },
  {
   "cell_type": "code",
   "execution_count": 2,
   "metadata": {
    "collapsed": true
   },
   "outputs": [],
   "source": [
    "import pandas as pd"
   ]
  },
  {
   "cell_type": "code",
   "execution_count": 4,
   "metadata": {
    "collapsed": false
   },
   "outputs": [],
   "source": [
    "surveys_df = pd.read_csv(\"https://raw.githubusercontent.com/ngs-docs/2015-python-intro/master/data/surveys.csv\")\n"
   ]
  },
  {
   "cell_type": "code",
   "execution_count": 5,
   "metadata": {
    "collapsed": false
   },
   "outputs": [
    {
     "data": {
      "text/html": [
       "<div>\n",
       "<table border=\"1\" class=\"dataframe\">\n",
       "  <thead>\n",
       "    <tr style=\"text-align: right;\">\n",
       "      <th></th>\n",
       "      <th>record_id</th>\n",
       "      <th>month</th>\n",
       "      <th>day</th>\n",
       "      <th>year</th>\n",
       "      <th>plot</th>\n",
       "      <th>species</th>\n",
       "      <th>sex</th>\n",
       "      <th>wgt</th>\n",
       "    </tr>\n",
       "  </thead>\n",
       "  <tbody>\n",
       "    <tr>\n",
       "      <th>0</th>\n",
       "      <td>1</td>\n",
       "      <td>7</td>\n",
       "      <td>16</td>\n",
       "      <td>1977</td>\n",
       "      <td>2</td>\n",
       "      <td>NaN</td>\n",
       "      <td>M</td>\n",
       "      <td>NaN</td>\n",
       "    </tr>\n",
       "    <tr>\n",
       "      <th>1</th>\n",
       "      <td>2</td>\n",
       "      <td>7</td>\n",
       "      <td>16</td>\n",
       "      <td>1977</td>\n",
       "      <td>3</td>\n",
       "      <td>NaN</td>\n",
       "      <td>M</td>\n",
       "      <td>NaN</td>\n",
       "    </tr>\n",
       "    <tr>\n",
       "      <th>2</th>\n",
       "      <td>3</td>\n",
       "      <td>7</td>\n",
       "      <td>16</td>\n",
       "      <td>1977</td>\n",
       "      <td>2</td>\n",
       "      <td>DM</td>\n",
       "      <td>F</td>\n",
       "      <td>NaN</td>\n",
       "    </tr>\n",
       "    <tr>\n",
       "      <th>3</th>\n",
       "      <td>4</td>\n",
       "      <td>7</td>\n",
       "      <td>16</td>\n",
       "      <td>1977</td>\n",
       "      <td>7</td>\n",
       "      <td>DM</td>\n",
       "      <td>M</td>\n",
       "      <td>NaN</td>\n",
       "    </tr>\n",
       "    <tr>\n",
       "      <th>4</th>\n",
       "      <td>5</td>\n",
       "      <td>7</td>\n",
       "      <td>16</td>\n",
       "      <td>1977</td>\n",
       "      <td>3</td>\n",
       "      <td>DM</td>\n",
       "      <td>M</td>\n",
       "      <td>NaN</td>\n",
       "    </tr>\n",
       "  </tbody>\n",
       "</table>\n",
       "</div>"
      ],
      "text/plain": [
       "   record_id  month  day  year  plot species sex  wgt\n",
       "0          1      7   16  1977     2     NaN   M  NaN\n",
       "1          2      7   16  1977     3     NaN   M  NaN\n",
       "2          3      7   16  1977     2      DM   F  NaN\n",
       "3          4      7   16  1977     7      DM   M  NaN\n",
       "4          5      7   16  1977     3      DM   M  NaN"
      ]
     },
     "execution_count": 5,
     "metadata": {},
     "output_type": "execute_result"
    }
   ],
   "source": [
    "surveys_df.head()"
   ]
  },
  {
   "cell_type": "code",
   "execution_count": 6,
   "metadata": {
    "collapsed": false
   },
   "outputs": [
    {
     "data": {
      "text/html": [
       "<div>\n",
       "<table border=\"1\" class=\"dataframe\">\n",
       "  <thead>\n",
       "    <tr style=\"text-align: right;\">\n",
       "      <th></th>\n",
       "      <th>record_id</th>\n",
       "      <th>month</th>\n",
       "      <th>day</th>\n",
       "      <th>year</th>\n",
       "      <th>plot</th>\n",
       "      <th>species</th>\n",
       "      <th>sex</th>\n",
       "      <th>wgt</th>\n",
       "    </tr>\n",
       "  </thead>\n",
       "  <tbody>\n",
       "    <tr>\n",
       "      <th>35544</th>\n",
       "      <td>35545</td>\n",
       "      <td>12</td>\n",
       "      <td>31</td>\n",
       "      <td>2002</td>\n",
       "      <td>15</td>\n",
       "      <td>AH</td>\n",
       "      <td>NaN</td>\n",
       "      <td>NaN</td>\n",
       "    </tr>\n",
       "    <tr>\n",
       "      <th>35545</th>\n",
       "      <td>35546</td>\n",
       "      <td>12</td>\n",
       "      <td>31</td>\n",
       "      <td>2002</td>\n",
       "      <td>15</td>\n",
       "      <td>AH</td>\n",
       "      <td>NaN</td>\n",
       "      <td>NaN</td>\n",
       "    </tr>\n",
       "    <tr>\n",
       "      <th>35546</th>\n",
       "      <td>35547</td>\n",
       "      <td>12</td>\n",
       "      <td>31</td>\n",
       "      <td>2002</td>\n",
       "      <td>10</td>\n",
       "      <td>RM</td>\n",
       "      <td>F</td>\n",
       "      <td>14</td>\n",
       "    </tr>\n",
       "    <tr>\n",
       "      <th>35547</th>\n",
       "      <td>35548</td>\n",
       "      <td>12</td>\n",
       "      <td>31</td>\n",
       "      <td>2002</td>\n",
       "      <td>7</td>\n",
       "      <td>DO</td>\n",
       "      <td>M</td>\n",
       "      <td>51</td>\n",
       "    </tr>\n",
       "    <tr>\n",
       "      <th>35548</th>\n",
       "      <td>35549</td>\n",
       "      <td>12</td>\n",
       "      <td>31</td>\n",
       "      <td>2002</td>\n",
       "      <td>5</td>\n",
       "      <td>NaN</td>\n",
       "      <td>NaN</td>\n",
       "      <td>NaN</td>\n",
       "    </tr>\n",
       "  </tbody>\n",
       "</table>\n",
       "</div>"
      ],
      "text/plain": [
       "       record_id  month  day  year  plot species  sex  wgt\n",
       "35544      35545     12   31  2002    15      AH  NaN  NaN\n",
       "35545      35546     12   31  2002    15      AH  NaN  NaN\n",
       "35546      35547     12   31  2002    10      RM    F   14\n",
       "35547      35548     12   31  2002     7      DO    M   51\n",
       "35548      35549     12   31  2002     5     NaN  NaN  NaN"
      ]
     },
     "execution_count": 6,
     "metadata": {},
     "output_type": "execute_result"
    }
   ],
   "source": [
    "surveys_df.tail()"
   ]
  },
  {
   "cell_type": "code",
   "execution_count": 7,
   "metadata": {
    "collapsed": false
   },
   "outputs": [
    {
     "data": {
      "text/plain": [
       "(35549, 8)"
      ]
     },
     "execution_count": 7,
     "metadata": {},
     "output_type": "execute_result"
    }
   ],
   "source": [
    "surveys_df.shape"
   ]
  },
  {
   "cell_type": "code",
   "execution_count": 8,
   "metadata": {
    "collapsed": false
   },
   "outputs": [
    {
     "data": {
      "text/plain": [
       "array(['record_id', 'month', 'day', 'year', 'plot', 'species', 'sex', 'wgt'], dtype=object)"
      ]
     },
     "execution_count": 8,
     "metadata": {},
     "output_type": "execute_result"
    }
   ],
   "source": [
    "surveys_df.columns.values"
   ]
  },
  {
   "cell_type": "code",
   "execution_count": 9,
   "metadata": {
    "collapsed": false
   },
   "outputs": [
    {
     "data": {
      "text/plain": [
       "array([nan, 'DM', 'PF', 'PE', 'DS', 'PP', 'SH', 'OT', 'DO', 'OX', 'SS',\n",
       "       'OL', 'RM', 'SA', 'PM', 'AH', 'DX', 'AB', 'CB', 'CM', 'CQ', 'RF',\n",
       "       'PC', 'PG', 'PH', 'PU', 'CV', 'UR', 'UP', 'ZL', 'UL', 'CS', 'SC',\n",
       "       'BA', 'SF', 'RO', 'AS', 'SO', 'PI', 'ST', 'CU', 'SU', 'RX', 'PB',\n",
       "       'PL', 'PX', 'CT', 'US'], dtype=object)"
      ]
     },
     "execution_count": 9,
     "metadata": {},
     "output_type": "execute_result"
    }
   ],
   "source": [
    "pd.unique(surveys_df.species)"
   ]
  },
  {
   "cell_type": "code",
   "execution_count": 10,
   "metadata": {
    "collapsed": false
   },
   "outputs": [
    {
     "data": {
      "text/plain": [
       "count    32283.000000\n",
       "mean        42.672428\n",
       "std         36.631259\n",
       "min          4.000000\n",
       "25%         20.000000\n",
       "50%         37.000000\n",
       "75%         48.000000\n",
       "max        280.000000\n",
       "Name: wgt, dtype: float64"
      ]
     },
     "execution_count": 10,
     "metadata": {},
     "output_type": "execute_result"
    }
   ],
   "source": [
    "surveys_df['wgt'].describe()"
   ]
  },
  {
   "cell_type": "code",
   "execution_count": 16,
   "metadata": {
    "collapsed": false
   },
   "outputs": [
    {
     "data": {
      "text/plain": [
       "count    32283.000000\n",
       "mean        42.672428\n",
       "std         36.631259\n",
       "min          4.000000\n",
       "20%         18.000000\n",
       "40%         29.000000\n",
       "50%         37.000000\n",
       "60%         42.000000\n",
       "80%         50.000000\n",
       "max        280.000000\n",
       "Name: wgt, dtype: float64"
      ]
     },
     "execution_count": 16,
     "metadata": {},
     "output_type": "execute_result"
    }
   ],
   "source": [
    "surveys_df.wgt.describe(percentiles=[.2, .4, .6, .8])"
   ]
  },
  {
   "cell_type": "code",
   "execution_count": 19,
   "metadata": {
    "collapsed": true
   },
   "outputs": [],
   "source": [
    "sorted = surveys_df.groupby('species')"
   ]
  },
  {
   "cell_type": "code",
   "execution_count": 20,
   "metadata": {
    "collapsed": false
   },
   "outputs": [
    {
     "data": {
      "text/html": [
       "<div>\n",
       "<table border=\"1\" class=\"dataframe\">\n",
       "  <thead>\n",
       "    <tr style=\"text-align: right;\">\n",
       "      <th></th>\n",
       "      <th></th>\n",
       "      <th>day</th>\n",
       "      <th>month</th>\n",
       "      <th>plot</th>\n",
       "      <th>record_id</th>\n",
       "      <th>wgt</th>\n",
       "      <th>year</th>\n",
       "    </tr>\n",
       "    <tr>\n",
       "      <th>species</th>\n",
       "      <th></th>\n",
       "      <th></th>\n",
       "      <th></th>\n",
       "      <th></th>\n",
       "      <th></th>\n",
       "      <th></th>\n",
       "      <th></th>\n",
       "    </tr>\n",
       "  </thead>\n",
       "  <tbody>\n",
       "    <tr>\n",
       "      <th rowspan=\"8\" valign=\"top\">AB</th>\n",
       "      <th>count</th>\n",
       "      <td>303.000000</td>\n",
       "      <td>303.000000</td>\n",
       "      <td>303.000000</td>\n",
       "      <td>303.000000</td>\n",
       "      <td>0.000000</td>\n",
       "      <td>303.000000</td>\n",
       "    </tr>\n",
       "    <tr>\n",
       "      <th>mean</th>\n",
       "      <td>15.788779</td>\n",
       "      <td>4.993399</td>\n",
       "      <td>13.973597</td>\n",
       "      <td>13201.702970</td>\n",
       "      <td>NaN</td>\n",
       "      <td>1987.171617</td>\n",
       "    </tr>\n",
       "    <tr>\n",
       "      <th>std</th>\n",
       "      <td>8.667608</td>\n",
       "      <td>4.084370</td>\n",
       "      <td>6.921937</td>\n",
       "      <td>5835.874869</td>\n",
       "      <td>NaN</td>\n",
       "      <td>4.219584</td>\n",
       "    </tr>\n",
       "    <tr>\n",
       "      <th>min</th>\n",
       "      <td>1.000000</td>\n",
       "      <td>1.000000</td>\n",
       "      <td>1.000000</td>\n",
       "      <td>3126.000000</td>\n",
       "      <td>NaN</td>\n",
       "      <td>1980.000000</td>\n",
       "    </tr>\n",
       "    <tr>\n",
       "      <th>25%</th>\n",
       "      <td>8.500000</td>\n",
       "      <td>2.000000</td>\n",
       "      <td>7.500000</td>\n",
       "      <td>7604.000000</td>\n",
       "      <td>NaN</td>\n",
       "      <td>1983.000000</td>\n",
       "    </tr>\n",
       "    <tr>\n",
       "      <th>50%</th>\n",
       "      <td>15.000000</td>\n",
       "      <td>3.000000</td>\n",
       "      <td>13.000000</td>\n",
       "      <td>13829.000000</td>\n",
       "      <td>NaN</td>\n",
       "      <td>1987.000000</td>\n",
       "    </tr>\n",
       "    <tr>\n",
       "      <th>75%</th>\n",
       "      <td>22.500000</td>\n",
       "      <td>9.000000</td>\n",
       "      <td>20.000000</td>\n",
       "      <td>16981.500000</td>\n",
       "      <td>NaN</td>\n",
       "      <td>1990.000000</td>\n",
       "    </tr>\n",
       "    <tr>\n",
       "      <th>max</th>\n",
       "      <td>31.000000</td>\n",
       "      <td>12.000000</td>\n",
       "      <td>24.000000</td>\n",
       "      <td>33713.000000</td>\n",
       "      <td>NaN</td>\n",
       "      <td>2002.000000</td>\n",
       "    </tr>\n",
       "    <tr>\n",
       "      <th rowspan=\"8\" valign=\"top\">AH</th>\n",
       "      <th>count</th>\n",
       "      <td>437.000000</td>\n",
       "      <td>437.000000</td>\n",
       "      <td>437.000000</td>\n",
       "      <td>437.000000</td>\n",
       "      <td>0.000000</td>\n",
       "      <td>437.000000</td>\n",
       "    </tr>\n",
       "    <tr>\n",
       "      <th>mean</th>\n",
       "      <td>16.427918</td>\n",
       "      <td>6.565217</td>\n",
       "      <td>14.780320</td>\n",
       "      <td>21631.716247</td>\n",
       "      <td>NaN</td>\n",
       "      <td>1993.352403</td>\n",
       "    </tr>\n",
       "    <tr>\n",
       "      <th>std</th>\n",
       "      <td>8.911772</td>\n",
       "      <td>3.252871</td>\n",
       "      <td>5.292133</td>\n",
       "      <td>7194.381201</td>\n",
       "      <td>NaN</td>\n",
       "      <td>5.250978</td>\n",
       "    </tr>\n",
       "    <tr>\n",
       "      <th>min</th>\n",
       "      <td>1.000000</td>\n",
       "      <td>1.000000</td>\n",
       "      <td>1.000000</td>\n",
       "      <td>1446.000000</td>\n",
       "      <td>NaN</td>\n",
       "      <td>1978.000000</td>\n",
       "    </tr>\n",
       "    <tr>\n",
       "      <th>25%</th>\n",
       "      <td>9.000000</td>\n",
       "      <td>4.000000</td>\n",
       "      <td>12.000000</td>\n",
       "      <td>15507.000000</td>\n",
       "      <td>NaN</td>\n",
       "      <td>1989.000000</td>\n",
       "    </tr>\n",
       "    <tr>\n",
       "      <th>50%</th>\n",
       "      <td>16.000000</td>\n",
       "      <td>6.000000</td>\n",
       "      <td>15.000000</td>\n",
       "      <td>21600.000000</td>\n",
       "      <td>NaN</td>\n",
       "      <td>1994.000000</td>\n",
       "    </tr>\n",
       "    <tr>\n",
       "      <th>75%</th>\n",
       "      <td>25.000000</td>\n",
       "      <td>9.000000</td>\n",
       "      <td>18.000000</td>\n",
       "      <td>27462.000000</td>\n",
       "      <td>NaN</td>\n",
       "      <td>1998.000000</td>\n",
       "    </tr>\n",
       "    <tr>\n",
       "      <th>max</th>\n",
       "      <td>31.000000</td>\n",
       "      <td>12.000000</td>\n",
       "      <td>24.000000</td>\n",
       "      <td>35546.000000</td>\n",
       "      <td>NaN</td>\n",
       "      <td>2002.000000</td>\n",
       "    </tr>\n",
       "    <tr>\n",
       "      <th rowspan=\"8\" valign=\"top\">AS</th>\n",
       "      <th>count</th>\n",
       "      <td>2.000000</td>\n",
       "      <td>2.000000</td>\n",
       "      <td>2.000000</td>\n",
       "      <td>2.000000</td>\n",
       "      <td>0.000000</td>\n",
       "      <td>2.000000</td>\n",
       "    </tr>\n",
       "    <tr>\n",
       "      <th>mean</th>\n",
       "      <td>15.500000</td>\n",
       "      <td>4.500000</td>\n",
       "      <td>15.500000</td>\n",
       "      <td>19760.000000</td>\n",
       "      <td>NaN</td>\n",
       "      <td>1992.000000</td>\n",
       "    </tr>\n",
       "    <tr>\n",
       "      <th>std</th>\n",
       "      <td>12.020815</td>\n",
       "      <td>4.949747</td>\n",
       "      <td>4.949747</td>\n",
       "      <td>1170.968830</td>\n",
       "      <td>NaN</td>\n",
       "      <td>1.414214</td>\n",
       "    </tr>\n",
       "    <tr>\n",
       "      <th>min</th>\n",
       "      <td>7.000000</td>\n",
       "      <td>1.000000</td>\n",
       "      <td>12.000000</td>\n",
       "      <td>18932.000000</td>\n",
       "      <td>NaN</td>\n",
       "      <td>1991.000000</td>\n",
       "    </tr>\n",
       "    <tr>\n",
       "      <th>25%</th>\n",
       "      <td>11.250000</td>\n",
       "      <td>2.750000</td>\n",
       "      <td>13.750000</td>\n",
       "      <td>19346.000000</td>\n",
       "      <td>NaN</td>\n",
       "      <td>1991.500000</td>\n",
       "    </tr>\n",
       "    <tr>\n",
       "      <th>50%</th>\n",
       "      <td>15.500000</td>\n",
       "      <td>4.500000</td>\n",
       "      <td>15.500000</td>\n",
       "      <td>19760.000000</td>\n",
       "      <td>NaN</td>\n",
       "      <td>1992.000000</td>\n",
       "    </tr>\n",
       "    <tr>\n",
       "      <th>75%</th>\n",
       "      <td>19.750000</td>\n",
       "      <td>6.250000</td>\n",
       "      <td>17.250000</td>\n",
       "      <td>20174.000000</td>\n",
       "      <td>NaN</td>\n",
       "      <td>1992.500000</td>\n",
       "    </tr>\n",
       "    <tr>\n",
       "      <th>max</th>\n",
       "      <td>24.000000</td>\n",
       "      <td>8.000000</td>\n",
       "      <td>19.000000</td>\n",
       "      <td>20588.000000</td>\n",
       "      <td>NaN</td>\n",
       "      <td>1993.000000</td>\n",
       "    </tr>\n",
       "    <tr>\n",
       "      <th rowspan=\"6\" valign=\"top\">BA</th>\n",
       "      <th>count</th>\n",
       "      <td>46.000000</td>\n",
       "      <td>46.000000</td>\n",
       "      <td>46.000000</td>\n",
       "      <td>46.000000</td>\n",
       "      <td>45.000000</td>\n",
       "      <td>46.000000</td>\n",
       "    </tr>\n",
       "    <tr>\n",
       "      <th>mean</th>\n",
       "      <td>12.826087</td>\n",
       "      <td>7.021739</td>\n",
       "      <td>10.521739</td>\n",
       "      <td>18586.043478</td>\n",
       "      <td>8.600000</td>\n",
       "      <td>1990.760870</td>\n",
       "    </tr>\n",
       "    <tr>\n",
       "      <th>std</th>\n",
       "      <td>6.004829</td>\n",
       "      <td>4.035890</td>\n",
       "      <td>8.123325</td>\n",
       "      <td>921.349203</td>\n",
       "      <td>2.082394</td>\n",
       "      <td>0.765500</td>\n",
       "    </tr>\n",
       "    <tr>\n",
       "      <th>min</th>\n",
       "      <td>4.000000</td>\n",
       "      <td>1.000000</td>\n",
       "      <td>1.000000</td>\n",
       "      <td>16598.000000</td>\n",
       "      <td>6.000000</td>\n",
       "      <td>1989.000000</td>\n",
       "    </tr>\n",
       "    <tr>\n",
       "      <th>25%</th>\n",
       "      <td>8.000000</td>\n",
       "      <td>3.250000</td>\n",
       "      <td>3.000000</td>\n",
       "      <td>17972.500000</td>\n",
       "      <td>7.000000</td>\n",
       "      <td>1990.000000</td>\n",
       "    </tr>\n",
       "    <tr>\n",
       "      <th>50%</th>\n",
       "      <td>13.000000</td>\n",
       "      <td>7.000000</td>\n",
       "      <td>5.000000</td>\n",
       "      <td>18803.000000</td>\n",
       "      <td>8.000000</td>\n",
       "      <td>1991.000000</td>\n",
       "    </tr>\n",
       "    <tr>\n",
       "      <th>...</th>\n",
       "      <th>...</th>\n",
       "      <td>...</td>\n",
       "      <td>...</td>\n",
       "      <td>...</td>\n",
       "      <td>...</td>\n",
       "      <td>...</td>\n",
       "      <td>...</td>\n",
       "    </tr>\n",
       "    <tr>\n",
       "      <th rowspan=\"6\" valign=\"top\">UP</th>\n",
       "      <th>std</th>\n",
       "      <td>6.621124</td>\n",
       "      <td>4.140393</td>\n",
       "      <td>10.622584</td>\n",
       "      <td>1327.000565</td>\n",
       "      <td>NaN</td>\n",
       "      <td>1.035098</td>\n",
       "    </tr>\n",
       "    <tr>\n",
       "      <th>min</th>\n",
       "      <td>4.000000</td>\n",
       "      <td>1.000000</td>\n",
       "      <td>1.000000</td>\n",
       "      <td>13688.000000</td>\n",
       "      <td>NaN</td>\n",
       "      <td>1987.000000</td>\n",
       "    </tr>\n",
       "    <tr>\n",
       "      <th>25%</th>\n",
       "      <td>15.250000</td>\n",
       "      <td>2.000000</td>\n",
       "      <td>1.000000</td>\n",
       "      <td>14013.250000</td>\n",
       "      <td>NaN</td>\n",
       "      <td>1987.750000</td>\n",
       "    </tr>\n",
       "    <tr>\n",
       "      <th>50%</th>\n",
       "      <td>21.000000</td>\n",
       "      <td>3.000000</td>\n",
       "      <td>7.000000</td>\n",
       "      <td>14226.500000</td>\n",
       "      <td>NaN</td>\n",
       "      <td>1988.000000</td>\n",
       "    </tr>\n",
       "    <tr>\n",
       "      <th>75%</th>\n",
       "      <td>21.000000</td>\n",
       "      <td>8.000000</td>\n",
       "      <td>22.250000</td>\n",
       "      <td>15375.000000</td>\n",
       "      <td>NaN</td>\n",
       "      <td>1989.000000</td>\n",
       "    </tr>\n",
       "    <tr>\n",
       "      <th>max</th>\n",
       "      <td>22.000000</td>\n",
       "      <td>11.000000</td>\n",
       "      <td>23.000000</td>\n",
       "      <td>17654.000000</td>\n",
       "      <td>NaN</td>\n",
       "      <td>1990.000000</td>\n",
       "    </tr>\n",
       "    <tr>\n",
       "      <th rowspan=\"8\" valign=\"top\">UR</th>\n",
       "      <th>count</th>\n",
       "      <td>10.000000</td>\n",
       "      <td>10.000000</td>\n",
       "      <td>10.000000</td>\n",
       "      <td>10.000000</td>\n",
       "      <td>0.000000</td>\n",
       "      <td>10.000000</td>\n",
       "    </tr>\n",
       "    <tr>\n",
       "      <th>mean</th>\n",
       "      <td>21.100000</td>\n",
       "      <td>6.200000</td>\n",
       "      <td>8.500000</td>\n",
       "      <td>21367.000000</td>\n",
       "      <td>NaN</td>\n",
       "      <td>1993.000000</td>\n",
       "    </tr>\n",
       "    <tr>\n",
       "      <th>std</th>\n",
       "      <td>5.685264</td>\n",
       "      <td>3.457681</td>\n",
       "      <td>4.927248</td>\n",
       "      <td>8568.125738</td>\n",
       "      <td>NaN</td>\n",
       "      <td>6.218253</td>\n",
       "    </tr>\n",
       "    <tr>\n",
       "      <th>min</th>\n",
       "      <td>9.000000</td>\n",
       "      <td>1.000000</td>\n",
       "      <td>1.000000</td>\n",
       "      <td>13564.000000</td>\n",
       "      <td>NaN</td>\n",
       "      <td>1987.000000</td>\n",
       "    </tr>\n",
       "    <tr>\n",
       "      <th>25%</th>\n",
       "      <td>18.750000</td>\n",
       "      <td>4.250000</td>\n",
       "      <td>6.250000</td>\n",
       "      <td>13719.750000</td>\n",
       "      <td>NaN</td>\n",
       "      <td>1987.250000</td>\n",
       "    </tr>\n",
       "    <tr>\n",
       "      <th>50%</th>\n",
       "      <td>24.500000</td>\n",
       "      <td>6.500000</td>\n",
       "      <td>9.000000</td>\n",
       "      <td>19103.500000</td>\n",
       "      <td>NaN</td>\n",
       "      <td>1991.500000</td>\n",
       "    </tr>\n",
       "    <tr>\n",
       "      <th>75%</th>\n",
       "      <td>25.000000</td>\n",
       "      <td>9.500000</td>\n",
       "      <td>11.000000</td>\n",
       "      <td>29559.250000</td>\n",
       "      <td>NaN</td>\n",
       "      <td>1999.250000</td>\n",
       "    </tr>\n",
       "    <tr>\n",
       "      <th>max</th>\n",
       "      <td>25.000000</td>\n",
       "      <td>10.000000</td>\n",
       "      <td>18.000000</td>\n",
       "      <td>34575.000000</td>\n",
       "      <td>NaN</td>\n",
       "      <td>2002.000000</td>\n",
       "    </tr>\n",
       "    <tr>\n",
       "      <th rowspan=\"8\" valign=\"top\">US</th>\n",
       "      <th>count</th>\n",
       "      <td>4.000000</td>\n",
       "      <td>4.000000</td>\n",
       "      <td>4.000000</td>\n",
       "      <td>4.000000</td>\n",
       "      <td>0.000000</td>\n",
       "      <td>4.000000</td>\n",
       "    </tr>\n",
       "    <tr>\n",
       "      <th>mean</th>\n",
       "      <td>31.000000</td>\n",
       "      <td>12.000000</td>\n",
       "      <td>12.500000</td>\n",
       "      <td>35524.250000</td>\n",
       "      <td>NaN</td>\n",
       "      <td>2002.000000</td>\n",
       "    </tr>\n",
       "    <tr>\n",
       "      <th>std</th>\n",
       "      <td>0.000000</td>\n",
       "      <td>0.000000</td>\n",
       "      <td>1.914854</td>\n",
       "      <td>15.063753</td>\n",
       "      <td>NaN</td>\n",
       "      <td>0.000000</td>\n",
       "    </tr>\n",
       "    <tr>\n",
       "      <th>min</th>\n",
       "      <td>31.000000</td>\n",
       "      <td>12.000000</td>\n",
       "      <td>11.000000</td>\n",
       "      <td>35512.000000</td>\n",
       "      <td>NaN</td>\n",
       "      <td>2002.000000</td>\n",
       "    </tr>\n",
       "    <tr>\n",
       "      <th>25%</th>\n",
       "      <td>31.000000</td>\n",
       "      <td>12.000000</td>\n",
       "      <td>11.000000</td>\n",
       "      <td>35512.750000</td>\n",
       "      <td>NaN</td>\n",
       "      <td>2002.000000</td>\n",
       "    </tr>\n",
       "    <tr>\n",
       "      <th>50%</th>\n",
       "      <td>31.000000</td>\n",
       "      <td>12.000000</td>\n",
       "      <td>12.000000</td>\n",
       "      <td>35520.500000</td>\n",
       "      <td>NaN</td>\n",
       "      <td>2002.000000</td>\n",
       "    </tr>\n",
       "    <tr>\n",
       "      <th>75%</th>\n",
       "      <td>31.000000</td>\n",
       "      <td>12.000000</td>\n",
       "      <td>13.500000</td>\n",
       "      <td>35532.000000</td>\n",
       "      <td>NaN</td>\n",
       "      <td>2002.000000</td>\n",
       "    </tr>\n",
       "    <tr>\n",
       "      <th>max</th>\n",
       "      <td>31.000000</td>\n",
       "      <td>12.000000</td>\n",
       "      <td>15.000000</td>\n",
       "      <td>35544.000000</td>\n",
       "      <td>NaN</td>\n",
       "      <td>2002.000000</td>\n",
       "    </tr>\n",
       "    <tr>\n",
       "      <th rowspan=\"8\" valign=\"top\">ZL</th>\n",
       "      <th>count</th>\n",
       "      <td>2.000000</td>\n",
       "      <td>2.000000</td>\n",
       "      <td>2.000000</td>\n",
       "      <td>2.000000</td>\n",
       "      <td>0.000000</td>\n",
       "      <td>2.000000</td>\n",
       "    </tr>\n",
       "    <tr>\n",
       "      <th>mean</th>\n",
       "      <td>18.500000</td>\n",
       "      <td>3.500000</td>\n",
       "      <td>20.500000</td>\n",
       "      <td>14300.500000</td>\n",
       "      <td>NaN</td>\n",
       "      <td>1988.000000</td>\n",
       "    </tr>\n",
       "    <tr>\n",
       "      <th>std</th>\n",
       "      <td>2.121320</td>\n",
       "      <td>0.707107</td>\n",
       "      <td>3.535534</td>\n",
       "      <td>71.417785</td>\n",
       "      <td>NaN</td>\n",
       "      <td>0.000000</td>\n",
       "    </tr>\n",
       "    <tr>\n",
       "      <th>min</th>\n",
       "      <td>17.000000</td>\n",
       "      <td>3.000000</td>\n",
       "      <td>18.000000</td>\n",
       "      <td>14250.000000</td>\n",
       "      <td>NaN</td>\n",
       "      <td>1988.000000</td>\n",
       "    </tr>\n",
       "    <tr>\n",
       "      <th>25%</th>\n",
       "      <td>17.750000</td>\n",
       "      <td>3.250000</td>\n",
       "      <td>19.250000</td>\n",
       "      <td>14275.250000</td>\n",
       "      <td>NaN</td>\n",
       "      <td>1988.000000</td>\n",
       "    </tr>\n",
       "    <tr>\n",
       "      <th>50%</th>\n",
       "      <td>18.500000</td>\n",
       "      <td>3.500000</td>\n",
       "      <td>20.500000</td>\n",
       "      <td>14300.500000</td>\n",
       "      <td>NaN</td>\n",
       "      <td>1988.000000</td>\n",
       "    </tr>\n",
       "    <tr>\n",
       "      <th>75%</th>\n",
       "      <td>19.250000</td>\n",
       "      <td>3.750000</td>\n",
       "      <td>21.750000</td>\n",
       "      <td>14325.750000</td>\n",
       "      <td>NaN</td>\n",
       "      <td>1988.000000</td>\n",
       "    </tr>\n",
       "    <tr>\n",
       "      <th>max</th>\n",
       "      <td>20.000000</td>\n",
       "      <td>4.000000</td>\n",
       "      <td>23.000000</td>\n",
       "      <td>14351.000000</td>\n",
       "      <td>NaN</td>\n",
       "      <td>1988.000000</td>\n",
       "    </tr>\n",
       "  </tbody>\n",
       "</table>\n",
       "<p>376 rows × 6 columns</p>\n",
       "</div>"
      ],
      "text/plain": [
       "                      day       month        plot     record_id        wgt  \\\n",
       "species                                                                      \n",
       "AB      count  303.000000  303.000000  303.000000    303.000000   0.000000   \n",
       "        mean    15.788779    4.993399   13.973597  13201.702970        NaN   \n",
       "        std      8.667608    4.084370    6.921937   5835.874869        NaN   \n",
       "        min      1.000000    1.000000    1.000000   3126.000000        NaN   \n",
       "        25%      8.500000    2.000000    7.500000   7604.000000        NaN   \n",
       "        50%     15.000000    3.000000   13.000000  13829.000000        NaN   \n",
       "        75%     22.500000    9.000000   20.000000  16981.500000        NaN   \n",
       "        max     31.000000   12.000000   24.000000  33713.000000        NaN   \n",
       "AH      count  437.000000  437.000000  437.000000    437.000000   0.000000   \n",
       "        mean    16.427918    6.565217   14.780320  21631.716247        NaN   \n",
       "        std      8.911772    3.252871    5.292133   7194.381201        NaN   \n",
       "        min      1.000000    1.000000    1.000000   1446.000000        NaN   \n",
       "        25%      9.000000    4.000000   12.000000  15507.000000        NaN   \n",
       "        50%     16.000000    6.000000   15.000000  21600.000000        NaN   \n",
       "        75%     25.000000    9.000000   18.000000  27462.000000        NaN   \n",
       "        max     31.000000   12.000000   24.000000  35546.000000        NaN   \n",
       "AS      count    2.000000    2.000000    2.000000      2.000000   0.000000   \n",
       "        mean    15.500000    4.500000   15.500000  19760.000000        NaN   \n",
       "        std     12.020815    4.949747    4.949747   1170.968830        NaN   \n",
       "        min      7.000000    1.000000   12.000000  18932.000000        NaN   \n",
       "        25%     11.250000    2.750000   13.750000  19346.000000        NaN   \n",
       "        50%     15.500000    4.500000   15.500000  19760.000000        NaN   \n",
       "        75%     19.750000    6.250000   17.250000  20174.000000        NaN   \n",
       "        max     24.000000    8.000000   19.000000  20588.000000        NaN   \n",
       "BA      count   46.000000   46.000000   46.000000     46.000000  45.000000   \n",
       "        mean    12.826087    7.021739   10.521739  18586.043478   8.600000   \n",
       "        std      6.004829    4.035890    8.123325    921.349203   2.082394   \n",
       "        min      4.000000    1.000000    1.000000  16598.000000   6.000000   \n",
       "        25%      8.000000    3.250000    3.000000  17972.500000   7.000000   \n",
       "        50%     13.000000    7.000000    5.000000  18803.000000   8.000000   \n",
       "...                   ...         ...         ...           ...        ...   \n",
       "UP      std      6.621124    4.140393   10.622584   1327.000565        NaN   \n",
       "        min      4.000000    1.000000    1.000000  13688.000000        NaN   \n",
       "        25%     15.250000    2.000000    1.000000  14013.250000        NaN   \n",
       "        50%     21.000000    3.000000    7.000000  14226.500000        NaN   \n",
       "        75%     21.000000    8.000000   22.250000  15375.000000        NaN   \n",
       "        max     22.000000   11.000000   23.000000  17654.000000        NaN   \n",
       "UR      count   10.000000   10.000000   10.000000     10.000000   0.000000   \n",
       "        mean    21.100000    6.200000    8.500000  21367.000000        NaN   \n",
       "        std      5.685264    3.457681    4.927248   8568.125738        NaN   \n",
       "        min      9.000000    1.000000    1.000000  13564.000000        NaN   \n",
       "        25%     18.750000    4.250000    6.250000  13719.750000        NaN   \n",
       "        50%     24.500000    6.500000    9.000000  19103.500000        NaN   \n",
       "        75%     25.000000    9.500000   11.000000  29559.250000        NaN   \n",
       "        max     25.000000   10.000000   18.000000  34575.000000        NaN   \n",
       "US      count    4.000000    4.000000    4.000000      4.000000   0.000000   \n",
       "        mean    31.000000   12.000000   12.500000  35524.250000        NaN   \n",
       "        std      0.000000    0.000000    1.914854     15.063753        NaN   \n",
       "        min     31.000000   12.000000   11.000000  35512.000000        NaN   \n",
       "        25%     31.000000   12.000000   11.000000  35512.750000        NaN   \n",
       "        50%     31.000000   12.000000   12.000000  35520.500000        NaN   \n",
       "        75%     31.000000   12.000000   13.500000  35532.000000        NaN   \n",
       "        max     31.000000   12.000000   15.000000  35544.000000        NaN   \n",
       "ZL      count    2.000000    2.000000    2.000000      2.000000   0.000000   \n",
       "        mean    18.500000    3.500000   20.500000  14300.500000        NaN   \n",
       "        std      2.121320    0.707107    3.535534     71.417785        NaN   \n",
       "        min     17.000000    3.000000   18.000000  14250.000000        NaN   \n",
       "        25%     17.750000    3.250000   19.250000  14275.250000        NaN   \n",
       "        50%     18.500000    3.500000   20.500000  14300.500000        NaN   \n",
       "        75%     19.250000    3.750000   21.750000  14325.750000        NaN   \n",
       "        max     20.000000    4.000000   23.000000  14351.000000        NaN   \n",
       "\n",
       "                      year  \n",
       "species                     \n",
       "AB      count   303.000000  \n",
       "        mean   1987.171617  \n",
       "        std       4.219584  \n",
       "        min    1980.000000  \n",
       "        25%    1983.000000  \n",
       "        50%    1987.000000  \n",
       "        75%    1990.000000  \n",
       "        max    2002.000000  \n",
       "AH      count   437.000000  \n",
       "        mean   1993.352403  \n",
       "        std       5.250978  \n",
       "        min    1978.000000  \n",
       "        25%    1989.000000  \n",
       "        50%    1994.000000  \n",
       "        75%    1998.000000  \n",
       "        max    2002.000000  \n",
       "AS      count     2.000000  \n",
       "        mean   1992.000000  \n",
       "        std       1.414214  \n",
       "        min    1991.000000  \n",
       "        25%    1991.500000  \n",
       "        50%    1992.000000  \n",
       "        75%    1992.500000  \n",
       "        max    1993.000000  \n",
       "BA      count    46.000000  \n",
       "        mean   1990.760870  \n",
       "        std       0.765500  \n",
       "        min    1989.000000  \n",
       "        25%    1990.000000  \n",
       "        50%    1991.000000  \n",
       "...                    ...  \n",
       "UP      std       1.035098  \n",
       "        min    1987.000000  \n",
       "        25%    1987.750000  \n",
       "        50%    1988.000000  \n",
       "        75%    1989.000000  \n",
       "        max    1990.000000  \n",
       "UR      count    10.000000  \n",
       "        mean   1993.000000  \n",
       "        std       6.218253  \n",
       "        min    1987.000000  \n",
       "        25%    1987.250000  \n",
       "        50%    1991.500000  \n",
       "        75%    1999.250000  \n",
       "        max    2002.000000  \n",
       "US      count     4.000000  \n",
       "        mean   2002.000000  \n",
       "        std       0.000000  \n",
       "        min    2002.000000  \n",
       "        25%    2002.000000  \n",
       "        50%    2002.000000  \n",
       "        75%    2002.000000  \n",
       "        max    2002.000000  \n",
       "ZL      count     2.000000  \n",
       "        mean   1988.000000  \n",
       "        std       0.000000  \n",
       "        min    1988.000000  \n",
       "        25%    1988.000000  \n",
       "        50%    1988.000000  \n",
       "        75%    1988.000000  \n",
       "        max    1988.000000  \n",
       "\n",
       "[376 rows x 6 columns]"
      ]
     },
     "execution_count": 20,
     "metadata": {},
     "output_type": "execute_result"
    }
   ],
   "source": [
    "sorted.describe()"
   ]
  },
  {
   "cell_type": "code",
   "execution_count": 21,
   "metadata": {
    "collapsed": false
   },
   "outputs": [
    {
     "data": {
      "text/html": [
       "<div>\n",
       "<table border=\"1\" class=\"dataframe\">\n",
       "  <thead>\n",
       "    <tr style=\"text-align: right;\">\n",
       "      <th></th>\n",
       "      <th>record_id</th>\n",
       "      <th>month</th>\n",
       "      <th>day</th>\n",
       "      <th>year</th>\n",
       "      <th>plot</th>\n",
       "      <th>wgt</th>\n",
       "    </tr>\n",
       "    <tr>\n",
       "      <th>species</th>\n",
       "      <th></th>\n",
       "      <th></th>\n",
       "      <th></th>\n",
       "      <th></th>\n",
       "      <th></th>\n",
       "      <th></th>\n",
       "    </tr>\n",
       "  </thead>\n",
       "  <tbody>\n",
       "    <tr>\n",
       "      <th>AB</th>\n",
       "      <td>13201.702970</td>\n",
       "      <td>4.993399</td>\n",
       "      <td>15.788779</td>\n",
       "      <td>1987.171617</td>\n",
       "      <td>13.973597</td>\n",
       "      <td>NaN</td>\n",
       "    </tr>\n",
       "    <tr>\n",
       "      <th>AH</th>\n",
       "      <td>21631.716247</td>\n",
       "      <td>6.565217</td>\n",
       "      <td>16.427918</td>\n",
       "      <td>1993.352403</td>\n",
       "      <td>14.780320</td>\n",
       "      <td>NaN</td>\n",
       "    </tr>\n",
       "    <tr>\n",
       "      <th>AS</th>\n",
       "      <td>19760.000000</td>\n",
       "      <td>4.500000</td>\n",
       "      <td>15.500000</td>\n",
       "      <td>1992.000000</td>\n",
       "      <td>15.500000</td>\n",
       "      <td>NaN</td>\n",
       "    </tr>\n",
       "    <tr>\n",
       "      <th>BA</th>\n",
       "      <td>18586.043478</td>\n",
       "      <td>7.021739</td>\n",
       "      <td>12.826087</td>\n",
       "      <td>1990.760870</td>\n",
       "      <td>10.521739</td>\n",
       "      <td>8.600000</td>\n",
       "    </tr>\n",
       "    <tr>\n",
       "      <th>CB</th>\n",
       "      <td>18300.460000</td>\n",
       "      <td>8.060000</td>\n",
       "      <td>18.920000</td>\n",
       "      <td>1990.720000</td>\n",
       "      <td>13.540000</td>\n",
       "      <td>NaN</td>\n",
       "    </tr>\n",
       "    <tr>\n",
       "      <th>CM</th>\n",
       "      <td>4055.000000</td>\n",
       "      <td>8.846154</td>\n",
       "      <td>10.000000</td>\n",
       "      <td>1980.538462</td>\n",
       "      <td>11.230769</td>\n",
       "      <td>NaN</td>\n",
       "    </tr>\n",
       "    <tr>\n",
       "      <th>CQ</th>\n",
       "      <td>5718.062500</td>\n",
       "      <td>6.375000</td>\n",
       "      <td>15.625000</td>\n",
       "      <td>1981.750000</td>\n",
       "      <td>16.250000</td>\n",
       "      <td>NaN</td>\n",
       "    </tr>\n",
       "    <tr>\n",
       "      <th>CS</th>\n",
       "      <td>15878.000000</td>\n",
       "      <td>4.000000</td>\n",
       "      <td>1.000000</td>\n",
       "      <td>1989.000000</td>\n",
       "      <td>11.000000</td>\n",
       "      <td>NaN</td>\n",
       "    </tr>\n",
       "    <tr>\n",
       "      <th>CT</th>\n",
       "      <td>28988.000000</td>\n",
       "      <td>12.000000</td>\n",
       "      <td>23.000000</td>\n",
       "      <td>1998.000000</td>\n",
       "      <td>6.000000</td>\n",
       "      <td>NaN</td>\n",
       "    </tr>\n",
       "    <tr>\n",
       "      <th>CU</th>\n",
       "      <td>21209.000000</td>\n",
       "      <td>11.000000</td>\n",
       "      <td>13.000000</td>\n",
       "      <td>1993.000000</td>\n",
       "      <td>7.000000</td>\n",
       "      <td>NaN</td>\n",
       "    </tr>\n",
       "    <tr>\n",
       "      <th>CV</th>\n",
       "      <td>13313.000000</td>\n",
       "      <td>8.000000</td>\n",
       "      <td>26.000000</td>\n",
       "      <td>1987.000000</td>\n",
       "      <td>15.000000</td>\n",
       "      <td>NaN</td>\n",
       "    </tr>\n",
       "    <tr>\n",
       "      <th>DM</th>\n",
       "      <td>15776.228011</td>\n",
       "      <td>6.338901</td>\n",
       "      <td>16.227067</td>\n",
       "      <td>1989.050680</td>\n",
       "      <td>10.901850</td>\n",
       "      <td>43.157864</td>\n",
       "    </tr>\n",
       "    <tr>\n",
       "      <th>DO</th>\n",
       "      <td>17970.353485</td>\n",
       "      <td>6.106376</td>\n",
       "      <td>15.822266</td>\n",
       "      <td>1990.625372</td>\n",
       "      <td>8.227618</td>\n",
       "      <td>48.870523</td>\n",
       "    </tr>\n",
       "    <tr>\n",
       "      <th>DS</th>\n",
       "      <td>6096.122204</td>\n",
       "      <td>6.371805</td>\n",
       "      <td>15.516773</td>\n",
       "      <td>1981.919728</td>\n",
       "      <td>10.654153</td>\n",
       "      <td>120.130546</td>\n",
       "    </tr>\n",
       "    <tr>\n",
       "      <th>DX</th>\n",
       "      <td>22236.350000</td>\n",
       "      <td>6.550000</td>\n",
       "      <td>15.975000</td>\n",
       "      <td>1993.725000</td>\n",
       "      <td>10.475000</td>\n",
       "      <td>NaN</td>\n",
       "    </tr>\n",
       "    <tr>\n",
       "      <th>OL</th>\n",
       "      <td>11097.006958</td>\n",
       "      <td>6.456262</td>\n",
       "      <td>15.781312</td>\n",
       "      <td>1985.588469</td>\n",
       "      <td>9.983101</td>\n",
       "      <td>31.575258</td>\n",
       "    </tr>\n",
       "    <tr>\n",
       "      <th>OT</th>\n",
       "      <td>19908.781236</td>\n",
       "      <td>7.223655</td>\n",
       "      <td>16.415740</td>\n",
       "      <td>1991.945754</td>\n",
       "      <td>10.991107</td>\n",
       "      <td>24.230556</td>\n",
       "    </tr>\n",
       "    <tr>\n",
       "      <th>OX</th>\n",
       "      <td>4548.666667</td>\n",
       "      <td>7.250000</td>\n",
       "      <td>15.833333</td>\n",
       "      <td>1980.416667</td>\n",
       "      <td>12.250000</td>\n",
       "      <td>21.000000</td>\n",
       "    </tr>\n",
       "    <tr>\n",
       "      <th>PB</th>\n",
       "      <td>31423.223452</td>\n",
       "      <td>7.289865</td>\n",
       "      <td>16.059841</td>\n",
       "      <td>2000.146662</td>\n",
       "      <td>12.845036</td>\n",
       "      <td>31.735943</td>\n",
       "    </tr>\n",
       "    <tr>\n",
       "      <th>PC</th>\n",
       "      <td>17035.974359</td>\n",
       "      <td>4.743590</td>\n",
       "      <td>14.692308</td>\n",
       "      <td>1989.923077</td>\n",
       "      <td>12.794872</td>\n",
       "      <td>NaN</td>\n",
       "    </tr>\n",
       "    <tr>\n",
       "      <th>PE</th>\n",
       "      <td>15920.995381</td>\n",
       "      <td>6.384911</td>\n",
       "      <td>16.020785</td>\n",
       "      <td>1989.040031</td>\n",
       "      <td>13.036952</td>\n",
       "      <td>21.586508</td>\n",
       "    </tr>\n",
       "    <tr>\n",
       "      <th>PF</th>\n",
       "      <td>17347.086412</td>\n",
       "      <td>6.569818</td>\n",
       "      <td>16.887289</td>\n",
       "      <td>1990.500939</td>\n",
       "      <td>13.121478</td>\n",
       "      <td>7.923127</td>\n",
       "    </tr>\n",
       "    <tr>\n",
       "      <th>PG</th>\n",
       "      <td>16909.000000</td>\n",
       "      <td>2.875000</td>\n",
       "      <td>22.625000</td>\n",
       "      <td>1989.875000</td>\n",
       "      <td>14.875000</td>\n",
       "      <td>NaN</td>\n",
       "    </tr>\n",
       "    <tr>\n",
       "      <th>PH</th>\n",
       "      <td>16061.343750</td>\n",
       "      <td>6.750000</td>\n",
       "      <td>16.343750</td>\n",
       "      <td>1989.093750</td>\n",
       "      <td>15.906250</td>\n",
       "      <td>31.064516</td>\n",
       "    </tr>\n",
       "    <tr>\n",
       "      <th>PI</th>\n",
       "      <td>31139.444444</td>\n",
       "      <td>7.555556</td>\n",
       "      <td>16.888889</td>\n",
       "      <td>1999.888889</td>\n",
       "      <td>6.666667</td>\n",
       "      <td>19.250000</td>\n",
       "    </tr>\n",
       "    <tr>\n",
       "      <th>PL</th>\n",
       "      <td>26021.750000</td>\n",
       "      <td>6.111111</td>\n",
       "      <td>18.527778</td>\n",
       "      <td>1996.944444</td>\n",
       "      <td>14.666667</td>\n",
       "      <td>19.138889</td>\n",
       "    </tr>\n",
       "    <tr>\n",
       "      <th>PM</th>\n",
       "      <td>19354.033370</td>\n",
       "      <td>6.337041</td>\n",
       "      <td>17.836485</td>\n",
       "      <td>1991.745273</td>\n",
       "      <td>14.045606</td>\n",
       "      <td>21.364155</td>\n",
       "    </tr>\n",
       "    <tr>\n",
       "      <th>PP</th>\n",
       "      <td>25281.530900</td>\n",
       "      <td>6.886327</td>\n",
       "      <td>16.342619</td>\n",
       "      <td>1996.033942</td>\n",
       "      <td>10.200128</td>\n",
       "      <td>17.173942</td>\n",
       "    </tr>\n",
       "    <tr>\n",
       "      <th>PU</th>\n",
       "      <td>16813.000000</td>\n",
       "      <td>5.200000</td>\n",
       "      <td>9.400000</td>\n",
       "      <td>1990.200000</td>\n",
       "      <td>21.400000</td>\n",
       "      <td>NaN</td>\n",
       "    </tr>\n",
       "    <tr>\n",
       "      <th>PX</th>\n",
       "      <td>26337.333333</td>\n",
       "      <td>5.666667</td>\n",
       "      <td>12.833333</td>\n",
       "      <td>1997.333333</td>\n",
       "      <td>11.000000</td>\n",
       "      <td>19.000000</td>\n",
       "    </tr>\n",
       "    <tr>\n",
       "      <th>RF</th>\n",
       "      <td>15888.293333</td>\n",
       "      <td>5.293333</td>\n",
       "      <td>10.960000</td>\n",
       "      <td>1988.933333</td>\n",
       "      <td>12.760000</td>\n",
       "      <td>13.386667</td>\n",
       "    </tr>\n",
       "    <tr>\n",
       "      <th>RM</th>\n",
       "      <td>16410.623994</td>\n",
       "      <td>5.532388</td>\n",
       "      <td>15.132618</td>\n",
       "      <td>1989.526639</td>\n",
       "      <td>13.740897</td>\n",
       "      <td>10.585010</td>\n",
       "    </tr>\n",
       "    <tr>\n",
       "      <th>RO</th>\n",
       "      <td>32526.875000</td>\n",
       "      <td>7.000000</td>\n",
       "      <td>17.750000</td>\n",
       "      <td>2000.625000</td>\n",
       "      <td>11.625000</td>\n",
       "      <td>10.250000</td>\n",
       "    </tr>\n",
       "    <tr>\n",
       "      <th>RX</th>\n",
       "      <td>23703.500000</td>\n",
       "      <td>3.000000</td>\n",
       "      <td>19.500000</td>\n",
       "      <td>1996.000000</td>\n",
       "      <td>7.000000</td>\n",
       "      <td>15.500000</td>\n",
       "    </tr>\n",
       "    <tr>\n",
       "      <th>SA</th>\n",
       "      <td>9089.466667</td>\n",
       "      <td>5.786667</td>\n",
       "      <td>15.440000</td>\n",
       "      <td>1984.066667</td>\n",
       "      <td>13.693333</td>\n",
       "      <td>NaN</td>\n",
       "    </tr>\n",
       "    <tr>\n",
       "      <th>SC</th>\n",
       "      <td>16002.000000</td>\n",
       "      <td>5.000000</td>\n",
       "      <td>9.000000</td>\n",
       "      <td>1989.000000</td>\n",
       "      <td>19.000000</td>\n",
       "      <td>NaN</td>\n",
       "    </tr>\n",
       "    <tr>\n",
       "      <th>SF</th>\n",
       "      <td>20809.116279</td>\n",
       "      <td>6.139535</td>\n",
       "      <td>17.604651</td>\n",
       "      <td>1992.348837</td>\n",
       "      <td>14.813953</td>\n",
       "      <td>58.878049</td>\n",
       "    </tr>\n",
       "    <tr>\n",
       "      <th>SH</th>\n",
       "      <td>19330.231293</td>\n",
       "      <td>5.959184</td>\n",
       "      <td>12.755102</td>\n",
       "      <td>1991.428571</td>\n",
       "      <td>11.231293</td>\n",
       "      <td>73.148936</td>\n",
       "    </tr>\n",
       "    <tr>\n",
       "      <th>SO</th>\n",
       "      <td>20457.627907</td>\n",
       "      <td>6.697674</td>\n",
       "      <td>12.837209</td>\n",
       "      <td>1992.372093</td>\n",
       "      <td>7.488372</td>\n",
       "      <td>55.414634</td>\n",
       "    </tr>\n",
       "    <tr>\n",
       "      <th>SS</th>\n",
       "      <td>16291.798387</td>\n",
       "      <td>6.552419</td>\n",
       "      <td>15.262097</td>\n",
       "      <td>1989.391129</td>\n",
       "      <td>10.407258</td>\n",
       "      <td>93.500000</td>\n",
       "    </tr>\n",
       "    <tr>\n",
       "      <th>ST</th>\n",
       "      <td>20723.000000</td>\n",
       "      <td>3.000000</td>\n",
       "      <td>17.000000</td>\n",
       "      <td>1993.000000</td>\n",
       "      <td>20.000000</td>\n",
       "      <td>NaN</td>\n",
       "    </tr>\n",
       "    <tr>\n",
       "      <th>SU</th>\n",
       "      <td>22160.400000</td>\n",
       "      <td>5.200000</td>\n",
       "      <td>25.800000</td>\n",
       "      <td>1994.800000</td>\n",
       "      <td>18.800000</td>\n",
       "      <td>NaN</td>\n",
       "    </tr>\n",
       "    <tr>\n",
       "      <th>UL</th>\n",
       "      <td>19403.250000</td>\n",
       "      <td>5.000000</td>\n",
       "      <td>13.500000</td>\n",
       "      <td>1992.000000</td>\n",
       "      <td>10.000000</td>\n",
       "      <td>NaN</td>\n",
       "    </tr>\n",
       "    <tr>\n",
       "      <th>UP</th>\n",
       "      <td>14816.750000</td>\n",
       "      <td>5.000000</td>\n",
       "      <td>17.125000</td>\n",
       "      <td>1988.250000</td>\n",
       "      <td>10.625000</td>\n",
       "      <td>NaN</td>\n",
       "    </tr>\n",
       "    <tr>\n",
       "      <th>UR</th>\n",
       "      <td>21367.000000</td>\n",
       "      <td>6.200000</td>\n",
       "      <td>21.100000</td>\n",
       "      <td>1993.000000</td>\n",
       "      <td>8.500000</td>\n",
       "      <td>NaN</td>\n",
       "    </tr>\n",
       "    <tr>\n",
       "      <th>US</th>\n",
       "      <td>35524.250000</td>\n",
       "      <td>12.000000</td>\n",
       "      <td>31.000000</td>\n",
       "      <td>2002.000000</td>\n",
       "      <td>12.500000</td>\n",
       "      <td>NaN</td>\n",
       "    </tr>\n",
       "    <tr>\n",
       "      <th>ZL</th>\n",
       "      <td>14300.500000</td>\n",
       "      <td>3.500000</td>\n",
       "      <td>18.500000</td>\n",
       "      <td>1988.000000</td>\n",
       "      <td>20.500000</td>\n",
       "      <td>NaN</td>\n",
       "    </tr>\n",
       "  </tbody>\n",
       "</table>\n",
       "</div>"
      ],
      "text/plain": [
       "            record_id      month        day         year       plot  \\\n",
       "species                                                               \n",
       "AB       13201.702970   4.993399  15.788779  1987.171617  13.973597   \n",
       "AH       21631.716247   6.565217  16.427918  1993.352403  14.780320   \n",
       "AS       19760.000000   4.500000  15.500000  1992.000000  15.500000   \n",
       "BA       18586.043478   7.021739  12.826087  1990.760870  10.521739   \n",
       "CB       18300.460000   8.060000  18.920000  1990.720000  13.540000   \n",
       "CM        4055.000000   8.846154  10.000000  1980.538462  11.230769   \n",
       "CQ        5718.062500   6.375000  15.625000  1981.750000  16.250000   \n",
       "CS       15878.000000   4.000000   1.000000  1989.000000  11.000000   \n",
       "CT       28988.000000  12.000000  23.000000  1998.000000   6.000000   \n",
       "CU       21209.000000  11.000000  13.000000  1993.000000   7.000000   \n",
       "CV       13313.000000   8.000000  26.000000  1987.000000  15.000000   \n",
       "DM       15776.228011   6.338901  16.227067  1989.050680  10.901850   \n",
       "DO       17970.353485   6.106376  15.822266  1990.625372   8.227618   \n",
       "DS        6096.122204   6.371805  15.516773  1981.919728  10.654153   \n",
       "DX       22236.350000   6.550000  15.975000  1993.725000  10.475000   \n",
       "OL       11097.006958   6.456262  15.781312  1985.588469   9.983101   \n",
       "OT       19908.781236   7.223655  16.415740  1991.945754  10.991107   \n",
       "OX        4548.666667   7.250000  15.833333  1980.416667  12.250000   \n",
       "PB       31423.223452   7.289865  16.059841  2000.146662  12.845036   \n",
       "PC       17035.974359   4.743590  14.692308  1989.923077  12.794872   \n",
       "PE       15920.995381   6.384911  16.020785  1989.040031  13.036952   \n",
       "PF       17347.086412   6.569818  16.887289  1990.500939  13.121478   \n",
       "PG       16909.000000   2.875000  22.625000  1989.875000  14.875000   \n",
       "PH       16061.343750   6.750000  16.343750  1989.093750  15.906250   \n",
       "PI       31139.444444   7.555556  16.888889  1999.888889   6.666667   \n",
       "PL       26021.750000   6.111111  18.527778  1996.944444  14.666667   \n",
       "PM       19354.033370   6.337041  17.836485  1991.745273  14.045606   \n",
       "PP       25281.530900   6.886327  16.342619  1996.033942  10.200128   \n",
       "PU       16813.000000   5.200000   9.400000  1990.200000  21.400000   \n",
       "PX       26337.333333   5.666667  12.833333  1997.333333  11.000000   \n",
       "RF       15888.293333   5.293333  10.960000  1988.933333  12.760000   \n",
       "RM       16410.623994   5.532388  15.132618  1989.526639  13.740897   \n",
       "RO       32526.875000   7.000000  17.750000  2000.625000  11.625000   \n",
       "RX       23703.500000   3.000000  19.500000  1996.000000   7.000000   \n",
       "SA        9089.466667   5.786667  15.440000  1984.066667  13.693333   \n",
       "SC       16002.000000   5.000000   9.000000  1989.000000  19.000000   \n",
       "SF       20809.116279   6.139535  17.604651  1992.348837  14.813953   \n",
       "SH       19330.231293   5.959184  12.755102  1991.428571  11.231293   \n",
       "SO       20457.627907   6.697674  12.837209  1992.372093   7.488372   \n",
       "SS       16291.798387   6.552419  15.262097  1989.391129  10.407258   \n",
       "ST       20723.000000   3.000000  17.000000  1993.000000  20.000000   \n",
       "SU       22160.400000   5.200000  25.800000  1994.800000  18.800000   \n",
       "UL       19403.250000   5.000000  13.500000  1992.000000  10.000000   \n",
       "UP       14816.750000   5.000000  17.125000  1988.250000  10.625000   \n",
       "UR       21367.000000   6.200000  21.100000  1993.000000   8.500000   \n",
       "US       35524.250000  12.000000  31.000000  2002.000000  12.500000   \n",
       "ZL       14300.500000   3.500000  18.500000  1988.000000  20.500000   \n",
       "\n",
       "                wgt  \n",
       "species              \n",
       "AB              NaN  \n",
       "AH              NaN  \n",
       "AS              NaN  \n",
       "BA         8.600000  \n",
       "CB              NaN  \n",
       "CM              NaN  \n",
       "CQ              NaN  \n",
       "CS              NaN  \n",
       "CT              NaN  \n",
       "CU              NaN  \n",
       "CV              NaN  \n",
       "DM        43.157864  \n",
       "DO        48.870523  \n",
       "DS       120.130546  \n",
       "DX              NaN  \n",
       "OL        31.575258  \n",
       "OT        24.230556  \n",
       "OX        21.000000  \n",
       "PB        31.735943  \n",
       "PC              NaN  \n",
       "PE        21.586508  \n",
       "PF         7.923127  \n",
       "PG              NaN  \n",
       "PH        31.064516  \n",
       "PI        19.250000  \n",
       "PL        19.138889  \n",
       "PM        21.364155  \n",
       "PP        17.173942  \n",
       "PU              NaN  \n",
       "PX        19.000000  \n",
       "RF        13.386667  \n",
       "RM        10.585010  \n",
       "RO        10.250000  \n",
       "RX        15.500000  \n",
       "SA              NaN  \n",
       "SC              NaN  \n",
       "SF        58.878049  \n",
       "SH        73.148936  \n",
       "SO        55.414634  \n",
       "SS        93.500000  \n",
       "ST              NaN  \n",
       "SU              NaN  \n",
       "UL              NaN  \n",
       "UP              NaN  \n",
       "UR              NaN  \n",
       "US              NaN  \n",
       "ZL              NaN  "
      ]
     },
     "execution_count": 21,
     "metadata": {},
     "output_type": "execute_result"
    }
   ],
   "source": [
    "sorted.mean()"
   ]
  },
  {
   "cell_type": "code",
   "execution_count": 22,
   "metadata": {
    "collapsed": true
   },
   "outputs": [],
   "source": [
    "species_list = surveys_df['record_id'].groupby(surveys_df.species).count()"
   ]
  },
  {
   "cell_type": "code",
   "execution_count": 23,
   "metadata": {
    "collapsed": false
   },
   "outputs": [
    {
     "data": {
      "text/plain": [
       "species\n",
       "AB      303\n",
       "AH      437\n",
       "AS        2\n",
       "BA       46\n",
       "CB       50\n",
       "CM       13\n",
       "CQ       16\n",
       "CS        1\n",
       "CT        1\n",
       "CU        1\n",
       "CV        1\n",
       "DM    10596\n",
       "DO     3027\n",
       "DS     2504\n",
       "DX       40\n",
       "OL     1006\n",
       "OT     2249\n",
       "OX       12\n",
       "PB     2891\n",
       "PC       39\n",
       "PE     1299\n",
       "PF     1597\n",
       "PG        8\n",
       "PH       32\n",
       "PI        9\n",
       "PL       36\n",
       "PM      899\n",
       "PP     3123\n",
       "PU        5\n",
       "PX        6\n",
       "RF       75\n",
       "RM     2609\n",
       "RO        8\n",
       "RX        2\n",
       "SA       75\n",
       "SC        1\n",
       "SF       43\n",
       "SH      147\n",
       "SO       43\n",
       "SS      248\n",
       "ST        1\n",
       "SU        5\n",
       "UL        4\n",
       "UP        8\n",
       "UR       10\n",
       "US        4\n",
       "ZL        2\n",
       "dtype: int64"
      ]
     },
     "execution_count": 23,
     "metadata": {},
     "output_type": "execute_result"
    }
   ],
   "source": [
    "species_list"
   ]
  },
  {
   "cell_type": "code",
   "execution_count": 25,
   "metadata": {
    "collapsed": false
   },
   "outputs": [
    {
     "data": {
      "text/plain": [
       "<matplotlib.axes._subplots.AxesSubplot at 0x7ffac6b9bfd0>"
      ]
     },
     "execution_count": 25,
     "metadata": {},
     "output_type": "execute_result"
    },
    {
     "data": {
      "image/png": "[encoded data removed]",
      "text/plain": [
       "<matplotlib.figure.Figure at 0x7ffac6c1ba58>"
      ]
     },
     "metadata": {},
     "output_type": "display_data"
    }
   ],
   "source": [
    "%matplotlib inline\n",
    "species_list.plot(kind='bar')"
   ]
  },
  {
   "cell_type": "code",
   "execution_count": 26,
   "metadata": {
    "collapsed": true
   },
   "outputs": [],
   "source": [
    "total_count = surveys_df.record_id.groupby(surveys_df['plot']).nunique()"
   ]
  },
  {
   "cell_type": "code",
   "execution_count": 27,
   "metadata": {
    "collapsed": false
   },
   "outputs": [
    {
     "data": {
      "text/plain": [
       "<matplotlib.axes._subplots.AxesSubplot at 0x7ffac6b46f28>"
      ]
     },
     "execution_count": 27,
     "metadata": {},
     "output_type": "execute_result"
    },
    {
     "data": {
      "image/png": "[encoded data removed]",
      "text/plain": [
       "<matplotlib.figure.Figure at 0x7ffac6aac6d8>"
      ]
     },
     "metadata": {},
     "output_type": "display_data"
    }
   ],
   "source": [
    "total_count.plot(kind='bar')"
   ]
  },
  {
   "cell_type": "code",
   "execution_count": 28,
   "metadata": {
    "collapsed": false
   },
   "outputs": [
    {
     "data": {
      "image/png": "[encoded data removed]",
      "text/plain": [
       "<matplotlib.figure.Figure at 0x7ffac68ebcf8>"
      ]
     },
     "metadata": {},
     "output_type": "display_data"
    }
   ],
   "source": [
    "import numpy as np\n",
    "import matplotlib.pyplot as plt\n",
    "\n",
    "\n",
    "x = np.linspace(0, 1)\n",
    "y = np.sin(4 * np.pi * x) * np.exp(-5 * x)\n",
    "\n",
    "plt.fill(x, y, 'r')\n",
    "plt.grid(True)\n",
    "plt.show()"
   ]
  },
  {
   "cell_type": "code",
   "execution_count": 29,
   "metadata": {
    "collapsed": false
   },
   "outputs": [
    {
     "data": {
      "text/plain": [
       "'/home/ubuntu'"
      ]
     },
     "execution_count": 29,
     "metadata": {},
     "output_type": "execute_result"
    }
   ],
   "source": [
    "pwd"
   ]
  },
  {
   "cell_type": "code",
   "execution_count": 30,
   "metadata": {
    "collapsed": false
   },
   "outputs": [
    {
     "name": "stdout",
     "output_type": "stream",
     "text": [
      "Untitled.ipynb   Untitled3.ipynb  Untitled6.ipynb  titus-secret.ipynb\r\n",
      "Untitled1.ipynb  Untitled4.ipynb  Untitled7.ipynb  titus.ipynb\r\n",
      "Untitled2.ipynb  Untitled5.ipynb  Untitled8.ipynb\r\n"
     ]
    }
   ],
   "source": [
    "ls *.ipynb"
   ]
  },
  {
   "cell_type": "code",
   "execution_count": null,
   "metadata": {
    "collapsed": true
   },
   "outputs": [],
   "source": []
  }
 ],
 "metadata": {
  "kernelspec": {
   "display_name": "Python 3",
   "language": "python",
   "name": "python3"
  },
  "language_info": {
   "codemirror_mode": {
    "name": "ipython",
    "version": 3
   },
   "file_extension": ".py",
   "mimetype": "text/x-python",
   "name": "python",
   "nbconvert_exporter": "python",
   "pygments_lexer": "ipython3",
   "version": "3.5.0+"
  }
 },
 "nbformat": 4,
 "nbformat_minor": 0
}
